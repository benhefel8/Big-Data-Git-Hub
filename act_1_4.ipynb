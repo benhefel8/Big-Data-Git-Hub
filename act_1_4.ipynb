{
  "nbformat": 4,
  "nbformat_minor": 0,
  "metadata": {
    "colab": {
      "provenance": [],
      "authorship_tag": "ABX9TyOf3G1QLTRxntPXHidi/wuC",
      "include_colab_link": true
    },
    "kernelspec": {
      "name": "ir",
      "display_name": "R"
    },
    "language_info": {
      "name": "R"
    }
  },
  "cells": [
    {
      "cell_type": "markdown",
      "metadata": {
        "id": "view-in-github",
        "colab_type": "text"
      },
      "source": [
        "<a href=\"https://colab.research.google.com/github/benhefel8/Big-Data-Git-Hub/blob/main/act_1_4.ipynb\" target=\"_parent\"><img src=\"https://colab.research.google.com/assets/colab-badge.svg\" alt=\"Open In Colab\"/></a>"
      ]
    },
    {
      "cell_type": "code",
      "source": [
        "library(tidyverse)"
      ],
      "metadata": {
        "colab": {
          "base_uri": "https://localhost:8080/"
        },
        "id": "LPaVgwO0Usae",
        "outputId": "cc59661a-8122-4433-cb06-355d3a87d77f"
      },
      "execution_count": 5,
      "outputs": [
        {
          "output_type": "stream",
          "name": "stderr",
          "text": [
            "── \u001b[1mAttaching core tidyverse packages\u001b[22m ──────────────────────── tidyverse 2.0.0 ──\n",
            "\u001b[32m✔\u001b[39m \u001b[34mdplyr    \u001b[39m 1.1.4     \u001b[32m✔\u001b[39m \u001b[34mreadr    \u001b[39m 2.1.5\n",
            "\u001b[32m✔\u001b[39m \u001b[34mforcats  \u001b[39m 1.0.0     \u001b[32m✔\u001b[39m \u001b[34mstringr  \u001b[39m 1.5.1\n",
            "\u001b[32m✔\u001b[39m \u001b[34mggplot2  \u001b[39m 3.5.1     \u001b[32m✔\u001b[39m \u001b[34mtibble   \u001b[39m 3.2.1\n",
            "\u001b[32m✔\u001b[39m \u001b[34mlubridate\u001b[39m 1.9.3     \u001b[32m✔\u001b[39m \u001b[34mtidyr    \u001b[39m 1.3.1\n",
            "\u001b[32m✔\u001b[39m \u001b[34mpurrr    \u001b[39m 1.0.2     \n",
            "── \u001b[1mConflicts\u001b[22m ────────────────────────────────────────── tidyverse_conflicts() ──\n",
            "\u001b[31m✖\u001b[39m \u001b[34mdplyr\u001b[39m::\u001b[32mfilter()\u001b[39m masks \u001b[34mstats\u001b[39m::filter()\n",
            "\u001b[31m✖\u001b[39m \u001b[34mdplyr\u001b[39m::\u001b[32mlag()\u001b[39m    masks \u001b[34mstats\u001b[39m::lag()\n",
            "\u001b[36mℹ\u001b[39m Use the conflicted package (\u001b[3m\u001b[34m<http://conflicted.r-lib.org/>\u001b[39m\u001b[23m) to force all conflicts to become errors\n"
          ]
        }
      ]
    },
    {
      "cell_type": "code",
      "execution_count": 6,
      "metadata": {
        "colab": {
          "base_uri": "https://localhost:8080/",
          "height": 286
        },
        "id": "iQIXwkz8Sn-E",
        "outputId": "1c31f05c-d266-4394-d885-1f19400622a4"
      },
      "outputs": [
        {
          "output_type": "display_data",
          "data": {
            "text/html": [
              "<table class=\"dataframe\">\n",
              "<caption>A data.frame: 6 × 3</caption>\n",
              "<thead>\n",
              "\t<tr><th></th><th scope=col>Participant.ID</th><th scope=col>STSS.Scale</th><th scope=col>Functional.Impairment</th></tr>\n",
              "\t<tr><th></th><th scope=col>&lt;int&gt;</th><th scope=col>&lt;chr&gt;</th><th scope=col>&lt;int&gt;</th></tr>\n",
              "</thead>\n",
              "<tbody>\n",
              "\t<tr><th scope=row>1</th><td>134</td><td>Little or No STS</td><td> 7</td></tr>\n",
              "\t<tr><th scope=row>2</th><td>109</td><td>Little or No STS</td><td>10</td></tr>\n",
              "\t<tr><th scope=row>3</th><td>201</td><td>Little or No STS</td><td> 7</td></tr>\n",
              "\t<tr><th scope=row>4</th><td>173</td><td>Mild STS        </td><td> 7</td></tr>\n",
              "\t<tr><th scope=row>5</th><td>187</td><td>High STS        </td><td>17</td></tr>\n",
              "\t<tr><th scope=row>6</th><td> 30</td><td>Severe STS      </td><td>19</td></tr>\n",
              "</tbody>\n",
              "</table>\n"
            ],
            "text/markdown": "\nA data.frame: 6 × 3\n\n| <!--/--> | Participant.ID &lt;int&gt; | STSS.Scale &lt;chr&gt; | Functional.Impairment &lt;int&gt; |\n|---|---|---|---|\n| 1 | 134 | Little or No STS |  7 |\n| 2 | 109 | Little or No STS | 10 |\n| 3 | 201 | Little or No STS |  7 |\n| 4 | 173 | Mild STS         |  7 |\n| 5 | 187 | High STS         | 17 |\n| 6 |  30 | Severe STS       | 19 |\n\n",
            "text/latex": "A data.frame: 6 × 3\n\\begin{tabular}{r|lll}\n  & Participant.ID & STSS.Scale & Functional.Impairment\\\\\n  & <int> & <chr> & <int>\\\\\n\\hline\n\t1 & 134 & Little or No STS &  7\\\\\n\t2 & 109 & Little or No STS & 10\\\\\n\t3 & 201 & Little or No STS &  7\\\\\n\t4 & 173 & Mild STS         &  7\\\\\n\t5 & 187 & High STS         & 17\\\\\n\t6 &  30 & Severe STS       & 19\\\\\n\\end{tabular}\n",
            "text/plain": [
              "  Participant.ID STSS.Scale       Functional.Impairment\n",
              "1 134            Little or No STS  7                   \n",
              "2 109            Little or No STS 10                   \n",
              "3 201            Little or No STS  7                   \n",
              "4 173            Mild STS          7                   \n",
              "5 187            High STS         17                   \n",
              "6  30            Severe STS       19                   "
            ]
          },
          "metadata": {}
        }
      ],
      "source": [
        "stss <- read.csv(\"https://raw.githubusercontent.com/benhefel8/Big-Data-Git-Hub/main/Data/stss-scale_full.csv\")\n",
        "head(stss)"
      ]
    },
    {
      "cell_type": "code",
      "source": [
        "stss <- read.csv('https://raw.githubusercontent.com/benhefel8/Big-Data-Git-Hub/main/Data/stss-scale_full.csv')\n",
        "head(stss)\n",
        "\n",
        "stss_plot <- ggplot(data=stss, mapping=aes(x=STSS.Scale, y=Functional.Impairment))+geom_boxplot()+ theme_classic()\n",
        "\n",
        "stss_plot + scale_x_discrete(limits = c(\"Little or No STS\", \"Mild STS\", \"Moderate STS\", \"High STS\", \"Severe STS\"))\n"
      ],
      "metadata": {
        "id": "sOW51yODTl9O",
        "colab": {
          "base_uri": "https://localhost:8080/",
          "height": 706
        },
        "outputId": "552b3748-8ce5-4ba6-9ddf-76018deab2cf"
      },
      "execution_count": 15,
      "outputs": [
        {
          "output_type": "display_data",
          "data": {
            "text/html": [
              "<table class=\"dataframe\">\n",
              "<caption>A data.frame: 6 × 3</caption>\n",
              "<thead>\n",
              "\t<tr><th></th><th scope=col>Participant.ID</th><th scope=col>STSS.Scale</th><th scope=col>Functional.Impairment</th></tr>\n",
              "\t<tr><th></th><th scope=col>&lt;int&gt;</th><th scope=col>&lt;chr&gt;</th><th scope=col>&lt;int&gt;</th></tr>\n",
              "</thead>\n",
              "<tbody>\n",
              "\t<tr><th scope=row>1</th><td>134</td><td>Little or No STS</td><td> 7</td></tr>\n",
              "\t<tr><th scope=row>2</th><td>109</td><td>Little or No STS</td><td>10</td></tr>\n",
              "\t<tr><th scope=row>3</th><td>201</td><td>Little or No STS</td><td> 7</td></tr>\n",
              "\t<tr><th scope=row>4</th><td>173</td><td>Mild STS        </td><td> 7</td></tr>\n",
              "\t<tr><th scope=row>5</th><td>187</td><td>High STS        </td><td>17</td></tr>\n",
              "\t<tr><th scope=row>6</th><td> 30</td><td>Severe STS      </td><td>19</td></tr>\n",
              "</tbody>\n",
              "</table>\n"
            ],
            "text/markdown": "\nA data.frame: 6 × 3\n\n| <!--/--> | Participant.ID &lt;int&gt; | STSS.Scale &lt;chr&gt; | Functional.Impairment &lt;int&gt; |\n|---|---|---|---|\n| 1 | 134 | Little or No STS |  7 |\n| 2 | 109 | Little or No STS | 10 |\n| 3 | 201 | Little or No STS |  7 |\n| 4 | 173 | Mild STS         |  7 |\n| 5 | 187 | High STS         | 17 |\n| 6 |  30 | Severe STS       | 19 |\n\n",
            "text/latex": "A data.frame: 6 × 3\n\\begin{tabular}{r|lll}\n  & Participant.ID & STSS.Scale & Functional.Impairment\\\\\n  & <int> & <chr> & <int>\\\\\n\\hline\n\t1 & 134 & Little or No STS &  7\\\\\n\t2 & 109 & Little or No STS & 10\\\\\n\t3 & 201 & Little or No STS &  7\\\\\n\t4 & 173 & Mild STS         &  7\\\\\n\t5 & 187 & High STS         & 17\\\\\n\t6 &  30 & Severe STS       & 19\\\\\n\\end{tabular}\n",
            "text/plain": [
              "  Participant.ID STSS.Scale       Functional.Impairment\n",
              "1 134            Little or No STS  7                   \n",
              "2 109            Little or No STS 10                   \n",
              "3 201            Little or No STS  7                   \n",
              "4 173            Mild STS          7                   \n",
              "5 187            High STS         17                   \n",
              "6  30            Severe STS       19                   "
            ]
          },
          "metadata": {}
        },
        {
          "output_type": "display_data",
          "data": {
            "text/plain": [
              "plot without title"
            ],
            "image/png": "[encoded data removed]"
          },
          "metadata": {
            "image/png": {
              "width": 420,
              "height": 420
            }
          }
        }
      ]
    }
  ]
}